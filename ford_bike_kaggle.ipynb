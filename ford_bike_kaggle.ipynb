{
 "cells": [
  {
   "cell_type": "markdown",
   "metadata": {},
   "source": [
    "# Exploratory Data Analysis of bike rentals database with Pyspark\n",
    "# Krystian Warda"
   ]
  },
  {
   "cell_type": "code",
   "execution_count": 3,
   "metadata": {},
   "outputs": [],
   "source": [
    "import findspark\n",
    "findspark.init('/home/krystian/spark-3.1.2-bin-hadoop3.2')\n",
    "import pyspark\n",
    "from pyspark.sql import SparkSession\n",
    "spark = SparkSession.builder.appName('cluster1').getOrCreate()"
   ]
  },
  {
   "cell_type": "code",
   "execution_count": 4,
   "metadata": {},
   "outputs": [],
   "source": [
    "df = spark.read \\\n",
    "    .options(header=True, inferSchema=True) \\\n",
    "    .csv(f\"/home/krystian/data/2017-fordgobike-tripdata.csv\")"
   ]
  },
  {
   "cell_type": "code",
   "execution_count": 5,
   "metadata": {},
   "outputs": [],
   "source": [
    "from pyspark.sql.functions import max, min, datediff, format_number, collect_list, struct, mean, when, size, collect_set, count, to_date, countDistinct, current_date, sumDistinct, col, year, date_format, month, dayofmonth\n",
    "from pyspark.sql import Window\n",
    "import pyspark.sql.functions as F"
   ]
  },
  {
   "cell_type": "code",
   "execution_count": 6,
   "metadata": {},
   "outputs": [
    {
     "data": {
      "text/plain": [
       "['duration_sec',\n",
       " 'start_time',\n",
       " 'end_time',\n",
       " 'start_station_id',\n",
       " 'start_station_name',\n",
       " 'start_station_latitude',\n",
       " 'start_station_longitude',\n",
       " 'end_station_id',\n",
       " 'end_station_name',\n",
       " 'end_station_latitude',\n",
       " 'end_station_longitude',\n",
       " 'bike_id',\n",
       " 'user_type',\n",
       " 'member_birth_year',\n",
       " 'member_gender']"
      ]
     },
     "execution_count": 6,
     "metadata": {},
     "output_type": "execute_result"
    }
   ],
   "source": [
    "df.columns"
   ]
  },
  {
   "cell_type": "code",
   "execution_count": 7,
   "metadata": {},
   "outputs": [
    {
     "name": "stdout",
     "output_type": "stream",
     "text": [
      "(519700, 15)\n"
     ]
    }
   ],
   "source": [
    "print((df.count(), len(df.columns)))"
   ]
  },
  {
   "cell_type": "markdown",
   "metadata": {},
   "source": [
    "[datetime](https://docs.python.org/3/library/datetime.html#module-datetime)"
   ]
  },
  {
   "cell_type": "markdown",
   "metadata": {},
   "source": [
    "++++++++++++++++++++++++++++++++++++++++++++++++++++++++++++++++++++++++++++++++++++++++++++++++++++++++++++++++++"
   ]
  },
  {
   "cell_type": "markdown",
   "metadata": {},
   "source": [
    "# Distribution of the variable \"member_gender\""
   ]
  },
  {
   "cell_type": "code",
   "execution_count": 8,
   "metadata": {},
   "outputs": [
    {
     "name": "stdout",
     "output_type": "stream",
     "text": [
      "+-------------+-------------+\n",
      "|member_gender|No of records|\n",
      "+-------------+-------------+\n",
      "|         null|            0|\n",
      "|       Female|        98621|\n",
      "|        Other|         6299|\n",
      "|         Male|       348318|\n",
      "+-------------+-------------+\n",
      "\n"
     ]
    }
   ],
   "source": [
    "df.groupBy('member_gender').agg(\n",
    "    F.expr(\"count(member_gender)\").alias(\"No of records\"),\n",
    ").show()"
   ]
  },
  {
   "cell_type": "markdown",
   "metadata": {},
   "source": [
    "# The minimum, maximum and average age of bicycle rentals"
   ]
  },
  {
   "cell_type": "code",
   "execution_count": 9,
   "metadata": {},
   "outputs": [
    {
     "name": "stdout",
     "output_type": "stream",
     "text": [
      "+-------------+-------+-------+-------+\n",
      "|member_gender|AVG Age|MIN Age|MAX Age|\n",
      "+-------------+-------+-------+-------+\n",
      "|         null|   null|   null|   null|\n",
      "|       Female|     35|     18|    117|\n",
      "|        Other|     37|     18|    117|\n",
      "|         Male|     37|     18|    131|\n",
      "+-------------+-------+-------+-------+\n",
      "\n"
     ]
    }
   ],
   "source": [
    "df = df.withColumn(\"Age\", 2017 - df.member_birth_year).alias(\"Age\")\n",
    "df.groupBy('member_gender').agg(\n",
    "    F.expr(\"avg(Age)\").alias(\"AVG Age\"),\n",
    "    F.expr(\"min(Age)\").alias(\"MIN Age\"),\n",
    "    F.expr(\"max(Age)\").alias(\"MAX Age\")\n",
    ").withColumn('AVG Age', F.round(F.col('AVG Age'), 0).cast('integer')).show()"
   ]
  },
  {
   "cell_type": "markdown",
   "metadata": {},
   "source": [
    "# The number of unique bikes"
   ]
  },
  {
   "cell_type": "code",
   "execution_count": 10,
   "metadata": {},
   "outputs": [
    {
     "data": {
      "text/plain": [
       "3673"
      ]
     },
     "execution_count": 10,
     "metadata": {},
     "output_type": "execute_result"
    }
   ],
   "source": [
    "df.select(\"bike_id\").distinct().count()"
   ]
  },
  {
   "cell_type": "markdown",
   "metadata": {},
   "source": [
    "# Number of unique bike stations"
   ]
  },
  {
   "cell_type": "code",
   "execution_count": 11,
   "metadata": {},
   "outputs": [
    {
     "data": {
      "text/plain": [
       "272"
      ]
     },
     "execution_count": 11,
     "metadata": {},
     "output_type": "execute_result"
    }
   ],
   "source": [
    "df.dropDuplicates(['start_station_name','end_station_name'])\\\n",
    ".select('start_station_name').distinct().count()"
   ]
  },
  {
   "cell_type": "markdown",
   "metadata": {},
   "source": [
    "# Which bike was rented the longest and which was the shortest during the analyzed period (and for how long)"
   ]
  },
  {
   "cell_type": "code",
   "execution_count": 12,
   "metadata": {},
   "outputs": [
    {
     "name": "stdout",
     "output_type": "stream",
     "text": [
      "+-------+-----------------+------------------+-------------+-------------+\n",
      "|bike_id|Total No of rents|     AVG Rent Time|MIN Rent Time|MAX Rent Time|\n",
      "+-------+-----------------+------------------+-------------+-------------+\n",
      "|   2231|               95|2938.7684210526318|          126|        86369|\n",
      "|    229|              237| 1189.029535864979|           92|        86355|\n",
      "+-------+-----------------+------------------+-------------+-------------+\n",
      "only showing top 2 rows\n",
      "\n"
     ]
    }
   ],
   "source": [
    "aggData = df.groupBy('bike_id').agg(\n",
    "    F.expr(\"count(bike_id)\").alias(\"Total No of rents\"),\n",
    "    F.expr(\"avg(duration_sec)\").alias(\"AVG Rent Time\"),\n",
    "    F.expr(\"min(duration_sec)\").alias(\"MIN Rent Time\"),\n",
    "    F.expr(\"max(duration_sec)\").alias(\"MAX Rent Time\")\n",
    ").orderBy(\"MAX Rent Time\",ascending=False)\n",
    "aggData.show(2)"
   ]
  },
  {
   "cell_type": "code",
   "execution_count": 13,
   "metadata": {},
   "outputs": [
    {
     "name": "stdout",
     "output_type": "stream",
     "text": [
      "+-------+-----------------+------------------+-------------+-------------+\n",
      "|bike_id|Total No of rents|     AVG Rent Time|MIN Rent Time|MAX Rent Time|\n",
      "+-------+-----------------+------------------+-------------+-------------+\n",
      "|     68|              457| 903.3282275711159|           85|        22318|\n",
      "|   2178|              426|1258.5821596244132|           76|        32086|\n",
      "+-------+-----------------+------------------+-------------+-------------+\n",
      "only showing top 2 rows\n",
      "\n"
     ]
    }
   ],
   "source": [
    "aggData.orderBy(\"Total No of rents\",ascending=False).show(2)"
   ]
  },
  {
   "cell_type": "code",
   "execution_count": 14,
   "metadata": {},
   "outputs": [
    {
     "name": "stdout",
     "output_type": "stream",
     "text": [
      "+-------+-----------------+------------------+-------------+-------------+\n",
      "|bike_id|Total No of rents|     AVG Rent Time|MIN Rent Time|MAX Rent Time|\n",
      "+-------+-----------------+------------------+-------------+-------------+\n",
      "|   2580|              274|1079.7554744525548|           61|        27059|\n",
      "|   1238|              110|            1040.8|           61|        16288|\n",
      "+-------+-----------------+------------------+-------------+-------------+\n",
      "only showing top 2 rows\n",
      "\n"
     ]
    }
   ],
   "source": [
    "aggData.orderBy(\"MIN Rent Time\",ascending=True).show(2)"
   ]
  },
  {
   "cell_type": "code",
   "execution_count": 15,
   "metadata": {},
   "outputs": [
    {
     "name": "stdout",
     "output_type": "stream",
     "text": [
      "+-------+-----------------+------------------+-------------+-------------+\n",
      "|bike_id|Total No of rents|     AVG Rent Time|MIN Rent Time|MAX Rent Time|\n",
      "+-------+-----------------+------------------+-------------+-------------+\n",
      "|   3730|                8|         11461.125|          598|        79841|\n",
      "|   3693|                7|11434.714285714286|          127|        74203|\n",
      "+-------+-----------------+------------------+-------------+-------------+\n",
      "only showing top 2 rows\n",
      "\n"
     ]
    }
   ],
   "source": [
    "aggData.orderBy(\"AVG Rent Time\",ascending=False).show(2)"
   ]
  },
  {
   "cell_type": "markdown",
   "metadata": {},
   "source": [
    "# Average duration of a single loan"
   ]
  },
  {
   "cell_type": "code",
   "execution_count": 16,
   "metadata": {},
   "outputs": [
    {
     "name": "stdout",
     "output_type": "stream",
     "text": [
      "+------------------+\n",
      "|     AVG rent time|\n",
      "+------------------+\n",
      "|1099.0095208774294|\n",
      "+------------------+\n",
      "\n"
     ]
    }
   ],
   "source": [
    "df.select(mean('duration_sec').alias(\"AVG rent time\")).show()"
   ]
  },
  {
   "cell_type": "markdown",
   "metadata": {},
   "source": [
    "# Between which stations there was the greatest traffic"
   ]
  },
  {
   "cell_type": "code",
   "execution_count": 17,
   "metadata": {},
   "outputs": [
    {
     "name": "stdout",
     "output_type": "stream",
     "text": [
      "+--------------------------------------------------+-----------------------------+-----------------------+\n",
      "|start_station_name                                |end_station_name             |Total No of connections|\n",
      "+--------------------------------------------------+-----------------------------+-----------------------+\n",
      "|San Francisco Ferry Building (Harry Bridges Plaza)|The Embarcadero at Sansome St|3344                   |\n",
      "+--------------------------------------------------+-----------------------------+-----------------------+\n",
      "only showing top 1 row\n",
      "\n"
     ]
    }
   ],
   "source": [
    "df.groupBy('start_station_name', 'end_station_name').agg(\n",
    "    F.expr(\"count(bike_id)\").alias(\"Total No of connections\"))\\\n",
    ".orderBy(\"Total No of connections\",ascending=False).show(1, False)"
   ]
  },
  {
   "cell_type": "markdown",
   "metadata": {},
   "source": [
    "# At what time during the day were the most bicycles rented"
   ]
  },
  {
   "cell_type": "code",
   "execution_count": 18,
   "metadata": {},
   "outputs": [
    {
     "name": "stdout",
     "output_type": "stream",
     "text": [
      "+---------------+-----+\n",
      "|Ex Time of Rent|count|\n",
      "+---------------+-----+\n",
      "|          17:09| 1208|\n",
      "+---------------+-----+\n",
      "only showing top 1 row\n",
      "\n"
     ]
    }
   ],
   "source": [
    "df.withColumn(\"Ex Time of Rent\", date_format('start_time', 'HH:mm'))\\\n",
    ".select(\"Ex Time of Rent\")\\\n",
    ".groupBy('Ex Time of Rent').count()\\\n",
    ".orderBy(\"count\",ascending=False).show(1) \n"
   ]
  },
  {
   "cell_type": "markdown",
   "metadata": {},
   "source": [
    "# The average number of rentals for individual days of the week"
   ]
  },
  {
   "cell_type": "code",
   "execution_count": 19,
   "metadata": {},
   "outputs": [
    {
     "name": "stdout",
     "output_type": "stream",
     "text": [
      "+---------+-----+\n",
      "| Rent day|count|\n",
      "+---------+-----+\n",
      "|  Tuesday|87865|\n",
      "|Wednesday|87752|\n",
      "| Thursday|85243|\n",
      "|   Monday|81410|\n",
      "|   Friday|81165|\n",
      "| Saturday|50874|\n",
      "|   Sunday|45391|\n",
      "+---------+-----+\n",
      "\n"
     ]
    }
   ],
   "source": [
    "df.withColumn(\"Rent day\", date_format('start_time', 'EEEE')).select('Rent day')\\\n",
    ".groupBy('Rent day').count()\\\n",
    ".orderBy(\"count\",ascending=False).show() "
   ]
  },
  {
   "cell_type": "markdown",
   "metadata": {},
   "source": [
    "# The average number of rentals for individual months"
   ]
  },
  {
   "cell_type": "code",
   "execution_count": 20,
   "metadata": {},
   "outputs": [
    {
     "name": "stdout",
     "output_type": "stream",
     "text": [
      "+----------+------+\n",
      "|Rent month| count|\n",
      "+----------+------+\n",
      "|   October|108937|\n",
      "| September| 98558|\n",
      "|  November| 95612|\n",
      "|  December| 86539|\n",
      "|    August| 83292|\n",
      "|      July| 44073|\n",
      "|      June|  2689|\n",
      "+----------+------+\n",
      "\n"
     ]
    }
   ],
   "source": [
    "df.withColumn(\"Rent month\", date_format('start_time', 'MMMM'))\\\n",
    ".select('Rent month').groupBy('Rent month').count()\\\n",
    ".orderBy(\"count\",ascending=False).show() "
   ]
  },
  {
   "cell_type": "markdown",
   "metadata": {},
   "source": [
    "# RDD dataDaily containing data aggregated down to the level of the day. Each day of the year (element in RDD) is to contain the following information:\n",
    "\n",
    "- 'date' : Date \n",
    "- 'avg_duration_sec' : Average duration of rentals for the day\n",
    "- 'n_trips' : liczba wypożyczeń danego dnia\n",
    "- 'n_bikes' : number of rentals on a given day\n",
    "- 'n_subscriber' : number of rentals made by subscribers on a given day\n"
   ]
  },
  {
   "cell_type": "code",
   "execution_count": 33,
   "metadata": {},
   "outputs": [
    {
     "name": "stdout",
     "output_type": "stream",
     "text": [
      "+----+----------------+-------+-------+------------+\n",
      "|date|avg_duration_sec|n_trips|n_bikes|n_subscriber|\n",
      "+----+----------------+-------+-------+------------+\n",
      "| 179|            1131|    632|    299|         530|\n",
      "| 180|            1077|   1019|    375|         885|\n",
      "| 181|            1013|   1038|    392|         824|\n",
      "| 182|            3204|    475|    255|         189|\n",
      "| 183|            3082|    523|    257|         153|\n",
      "+----+----------------+-------+-------+------------+\n",
      "only showing top 5 rows\n",
      "\n"
     ]
    }
   ],
   "source": [
    "dataDaily = df.withColumn(\"date\", date_format('start_time', 'D'))\\\n",
    ".groupBy('date').agg(\n",
    "    F.expr(\"avg(duration_sec)\").alias(\"avg_duration_sec\"),   \n",
    "    F.expr(\"count(bike_id)\").alias(\"n_trips\"),\n",
    "    countDistinct(\"bike_id\").alias(\"n_bikes\"),\n",
    "    count(when(col(\"user_type\") == \"Subscriber\", True)).alias(\"n_subscriber\"))\\\n",
    ".withColumn('avg_duration_sec', F.round(F.col('avg_duration_sec'), 0).cast('integer'))\\\n",
    ".orderBy(\"date\",ascending=True) \n",
    "\n",
    "dataDaily.show(5)"
   ]
  },
  {
   "cell_type": "markdown",
   "metadata": {},
   "source": [
    "# Number of unique combinations of stations (x -> y == y -> x) for the day"
   ]
  },
  {
   "cell_type": "code",
   "execution_count": 34,
   "metadata": {},
   "outputs": [
    {
     "name": "stdout",
     "output_type": "stream",
     "text": [
      "+----+--------------+\n",
      "|date|size(n_routes)|\n",
      "+----+--------------+\n",
      "| 179|           292|\n",
      "| 180|           384|\n",
      "| 181|           390|\n",
      "| 182|           208|\n",
      "| 183|           190|\n",
      "+----+--------------+\n",
      "only showing top 5 rows\n",
      "\n"
     ]
    }
   ],
   "source": [
    "df2 = df.withColumn(\"sl2\", when(df['end_station_id'] < df['start_station_id'],  df['end_station_id'])\\\n",
    ".otherwise(df['start_station_id']))\\\n",
    ".withColumn(\"el2\", when(df['end_station_id'] > df['start_station_id'],  df['end_station_id'])\\\n",
    ".otherwise(df['start_station_id']))\\\n",
    ".drop(\"start_station_id\", \"end_station_id\")\n",
    "\n",
    "df2_agg = df2.withColumn(\"date\", date_format('start_time', 'D'))\\\n",
    ".groupBy('date').agg(collect_set(struct(col('sl2'), col('el2'))).alias(\"n_routes\")) \n",
    "\n",
    "df2_agg.select(\"date\", size(\"n_routes\")).alias(\"n_routes\")\\\n",
    ".orderBy(\"date\",ascending=True).show(5)"
   ]
  },
  {
   "cell_type": "markdown",
   "metadata": {},
   "source": [
    "# RDD key-value `bikeDaily` containing one element for each` \"bike_id\" `. The values ​​in the RDD are to be lists of the total daily use of a given bike in seconds (items of the list in chronological order)."
   ]
  },
  {
   "cell_type": "code",
   "execution_count": 32,
   "metadata": {},
   "outputs": [
    {
     "name": "stdout",
     "output_type": "stream",
     "text": [
      "+-------+-----+-----+----+----+----+\n",
      "|bike_id|  259|  260| 261| 262| 263|\n",
      "+-------+-----+-----+----+----+----+\n",
      "|   2866| 1304| null|null| 596|1805|\n",
      "|   2122|13834|  799|null|null|null|\n",
      "|   2659| 3190|17041|1151| 550|2052|\n",
      "+-------+-----+-----+----+----+----+\n",
      "only showing top 3 rows\n",
      "\n"
     ]
    }
   ],
   "source": [
    "bikeDaily = df.withColumn(\"date\", date_format('start_time', 'D'))\\\n",
    ".groupBy('bike_id').pivot('date').sum(\"duration_sec\")\n",
    "\n",
    "bikeDaily.select('bike_id','259','260','261','262','263',).show(3)"
   ]
  }
 ],
 "metadata": {
  "kernelspec": {
   "display_name": "Python 3",
   "language": "python",
   "name": "python3"
  },
  "language_info": {
   "codemirror_mode": {
    "name": "ipython",
    "version": 3
   },
   "file_extension": ".py",
   "mimetype": "text/x-python",
   "name": "python",
   "nbconvert_exporter": "python",
   "pygments_lexer": "ipython3",
   "version": "3.8.10"
  }
 },
 "nbformat": 4,
 "nbformat_minor": 2
}
